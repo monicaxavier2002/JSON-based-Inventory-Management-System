{
 "cells": [
  {
   "cell_type": "markdown",
   "metadata": {},
   "source": [
    "# Importing required libraries"
   ]
  },
  {
   "cell_type": "code",
   "execution_count": 1,
   "metadata": {},
   "outputs": [],
   "source": [
    "import time\n",
    "import json\n",
    "from tkinter import *\n",
    "from tkinter import messagebox"
   ]
  },
  {
   "cell_type": "markdown",
   "metadata": {},
   "source": [
    "# Creating the GUI window"
   ]
  },
  {
   "cell_type": "code",
   "execution_count": 2,
   "metadata": {},
   "outputs": [],
   "source": [
    "root=Tk()\n",
    "root.title(\"Inventory Management System\")\n",
    "root.geometry(\"1000x500\")\n",
    "\n",
    "root.config(bg=\"light blue\")\n"
   ]
  },
  {
   "cell_type": "code",
   "execution_count": 3,
   "metadata": {},
   "outputs": [],
   "source": [
    "top=Frame(root,bg='sky blue', height=300, width=1000)\n",
    "top.grid(row=0, column=0)\n",
    "\n",
    "bottom = Frame(root, bg='blue', height=200, width=1000)\n",
    "bottom.grid(row=1, column=0)"
   ]
  },
  {
   "cell_type": "code",
   "execution_count": 4,
   "metadata": {},
   "outputs": [],
   "source": [
    "import tkinter.scrolledtext as st\n",
    "Heading=Label(top, text=\"Welcome to Monica's Store \", font=('arial 30 bold'), bg='sky blue' )\n",
    "Heading.place(x=250,y=0)\n",
    "fd = open(\"sales.json\",'r')\n",
    "r = fd.read()\n",
    "fd.close()\n",
    "sales = json.loads(r)\n",
    "fd = open(\"record.json\",'r')\n",
    "r = fd.read()\n",
    "fd.close()\n",
    "records = json.loads(r)\n",
    "Label(top, text=\"Please choose from available products\",bg='sky blue').place(x=0,y=50)\n",
    "Label(top, text=\"Product ID\", bg='sky blue').place(x=0,y=80)\n",
    "Label(top, text=\"Product name\", bg='sky blue').place(x=100,y=80)\n",
    "Label(top, text=\"Product category\", bg='sky blue').place(x=300,y=80)\n",
    "Label(top, text=\"Brand\", bg='sky blue').place(x=430,y=80)\n",
    "Label(top, text=\"Price in Rs\", bg='sky blue').place(x=580,y=80)\n",
    "Label(top, text=\"Quantity\", bg='sky blue').place(x=730,y=80)\n",
    "data=st.ScrolledText(top, height=10, width=120)\n",
    "data.insert(END,'\\n'.join(\"{:10} {:25} {:15} {:15} {:10} {:15}\".format(key,values['name'],values['category'], values['brand'], \n",
    "\n",
    "                                                                values['pr'], values['qn']) for key,values in records.items()))\n",
    "\n",
    "data.place(x=0,y=100)"
   ]
  },
  {
   "cell_type": "code",
   "execution_count": 5,
   "metadata": {},
   "outputs": [],
   "source": [
    "id=Label(bottom, text=\"Enter product Id:*\", bg='blue')\n",
    "id.place(x=10, y=50)\n",
    "\n",
    "get_id=Entry(bottom)\n",
    "get_id.place(x=200, y=50)\n",
    "\n",
    "prod_qn=Label(bottom, text=\"Enter product quantity:*\", bg='blue')\n",
    "prod_qn.place(x=10, y=80)\n",
    "\n",
    "get_qn=Entry(bottom)\n",
    "get_qn.place(x=200, y=80)\n",
    "def purchase():\n",
    "    prod_id = get_id.get()\n",
    "    qn = get_qn.get()\n",
    "    try:\n",
    "        i1 = int(prod_id)\n",
    "        i2 = int(qn)\n",
    "    except ValueError:\n",
    "        messagebox.showerror(\"Error\", \"Only integers are allowed for Product ID and quantity\")\n",
    "    else:\n",
    "        if prod_id=='' or qn=='':\n",
    "            messagebox.showerror(\"Error\", \"Please enter required fields\")\n",
    "        elif prod_id not in records.keys():\n",
    "            messagebox.showinfo(\"Information\", \"Sorry!! This product is unavailable\")\n",
    "        elif int(qn)>records[prod_id]['qn']:\n",
    "            messagebox.showinfo(\"Information\", \"Sorry!! We do not have sufficient quantity for this product\")\n",
    "        else:\n",
    "            bill=records[prod_id]['pr'] * int(qn)\n",
    "            bill_time=time.ctime()\n",
    "            Label(bottom,text=\"Your total billing amount is {} \".format(bill), bg='sky blue' ).place(x=600,y=50)\n",
    "            Label(bottom,text=\"Thanks for shopping with us!! Have a great day!!\", bg='sky blue' ).place(x=600,y=70)\n",
    "\n",
    "            sales[(len(sales)+1)]={'prod' : prod_id, 'qn' : int(qn), 'amount': records[prod_id]['pr'] * int(qn),'Billing Time':bill_time}\n",
    "            sale = json.dumps(sales)\n",
    "            file = open(\"sales.json\",'w')\n",
    "            file.write(sale)\n",
    "            file.close()\n",
    "\n",
    "            records[prod_id]['qn'] = records[prod_id]['qn'] - int(qn)\n",
    "            js = json.dumps(records)\n",
    "            fd = open(\"record.json\",'w')\n",
    "            fd.write(js)\n",
    "            fd.close()\n",
    "Button(bottom, text=\"Purchase\", command=purchase, bg='sky blue').place(x=100, y=110)"
   ]
  },
  {
   "cell_type": "code",
   "execution_count": 6,
   "metadata": {},
   "outputs": [],
   "source": [
    "root.mainloop()"
   ]
  }
 ],
 "metadata": {
  "colab": {
   "name": "Purchasing Products",
   "provenance": []
  },
  "kernelspec": {
   "display_name": "Python 3",
   "language": "python",
   "name": "python3"
  },
  "language_info": {
   "codemirror_mode": {
    "name": "ipython",
    "version": 3
   },
   "file_extension": ".py",
   "mimetype": "text/x-python",
   "name": "python",
   "nbconvert_exporter": "python",
   "pygments_lexer": "ipython3",
   "version": "3.8.5"
  }
 },
 "nbformat": 4,
 "nbformat_minor": 1
}
